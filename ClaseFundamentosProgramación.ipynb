{
  "nbformat": 4,
  "nbformat_minor": 0,
  "metadata": {
    "colab": {
      "provenance": []
    },
    "kernelspec": {
      "name": "python3",
      "display_name": "Python 3"
    },
    "language_info": {
      "name": "python"
    },
    "widgets": {
      "application/vnd.jupyter.widget-state+json": {
        "3fbdbf0c2e294d62af6fc18028d51c61": {
          "model_module": "@jupyter-widgets/controls",
          "model_name": "TextModel",
          "model_module_version": "1.5.0",
          "state": {
            "_dom_classes": [],
            "_model_module": "@jupyter-widgets/controls",
            "_model_module_version": "1.5.0",
            "_model_name": "TextModel",
            "_view_count": null,
            "_view_module": "@jupyter-widgets/controls",
            "_view_module_version": "1.5.0",
            "_view_name": "TextView",
            "continuous_update": true,
            "description": "Número de identidad:",
            "description_tooltip": null,
            "disabled": false,
            "layout": "IPY_MODEL_6bddd2a8f7414c1dbaa6e53fc3d769dd",
            "placeholder": "​",
            "style": "IPY_MODEL_4b52b79dd8d64f788ff27e98bc5e1069",
            "value": ""
          }
        },
        "6bddd2a8f7414c1dbaa6e53fc3d769dd": {
          "model_module": "@jupyter-widgets/base",
          "model_name": "LayoutModel",
          "model_module_version": "1.2.0",
          "state": {
            "_model_module": "@jupyter-widgets/base",
            "_model_module_version": "1.2.0",
            "_model_name": "LayoutModel",
            "_view_count": null,
            "_view_module": "@jupyter-widgets/base",
            "_view_module_version": "1.2.0",
            "_view_name": "LayoutView",
            "align_content": null,
            "align_items": null,
            "align_self": null,
            "border": null,
            "bottom": null,
            "display": null,
            "flex": null,
            "flex_flow": null,
            "grid_area": null,
            "grid_auto_columns": null,
            "grid_auto_flow": null,
            "grid_auto_rows": null,
            "grid_column": null,
            "grid_gap": null,
            "grid_row": null,
            "grid_template_areas": null,
            "grid_template_columns": null,
            "grid_template_rows": null,
            "height": null,
            "justify_content": null,
            "justify_items": null,
            "left": null,
            "margin": null,
            "max_height": null,
            "max_width": null,
            "min_height": null,
            "min_width": null,
            "object_fit": null,
            "object_position": null,
            "order": null,
            "overflow": null,
            "overflow_x": null,
            "overflow_y": null,
            "padding": null,
            "right": null,
            "top": null,
            "visibility": null,
            "width": null
          }
        },
        "4b52b79dd8d64f788ff27e98bc5e1069": {
          "model_module": "@jupyter-widgets/controls",
          "model_name": "DescriptionStyleModel",
          "model_module_version": "1.5.0",
          "state": {
            "_model_module": "@jupyter-widgets/controls",
            "_model_module_version": "1.5.0",
            "_model_name": "DescriptionStyleModel",
            "_view_count": null,
            "_view_module": "@jupyter-widgets/base",
            "_view_module_version": "1.2.0",
            "_view_name": "StyleView",
            "description_width": "initial"
          }
        },
        "4b67a0e141d84da8abf029652189daf0": {
          "model_module": "@jupyter-widgets/controls",
          "model_name": "TextModel",
          "model_module_version": "1.5.0",
          "state": {
            "_dom_classes": [],
            "_model_module": "@jupyter-widgets/controls",
            "_model_module_version": "1.5.0",
            "_model_name": "TextModel",
            "_view_count": null,
            "_view_module": "@jupyter-widgets/controls",
            "_view_module_version": "1.5.0",
            "_view_name": "TextView",
            "continuous_update": true,
            "description": "Nombres:",
            "description_tooltip": null,
            "disabled": false,
            "layout": "IPY_MODEL_ed1bc071e3124014adb1c6c9d0b24346",
            "placeholder": "​",
            "style": "IPY_MODEL_2d67af9e732740e49fd3ce611f4c6a19",
            "value": ""
          }
        },
        "ed1bc071e3124014adb1c6c9d0b24346": {
          "model_module": "@jupyter-widgets/base",
          "model_name": "LayoutModel",
          "model_module_version": "1.2.0",
          "state": {
            "_model_module": "@jupyter-widgets/base",
            "_model_module_version": "1.2.0",
            "_model_name": "LayoutModel",
            "_view_count": null,
            "_view_module": "@jupyter-widgets/base",
            "_view_module_version": "1.2.0",
            "_view_name": "LayoutView",
            "align_content": null,
            "align_items": null,
            "align_self": null,
            "border": null,
            "bottom": null,
            "display": null,
            "flex": null,
            "flex_flow": null,
            "grid_area": null,
            "grid_auto_columns": null,
            "grid_auto_flow": null,
            "grid_auto_rows": null,
            "grid_column": null,
            "grid_gap": null,
            "grid_row": null,
            "grid_template_areas": null,
            "grid_template_columns": null,
            "grid_template_rows": null,
            "height": null,
            "justify_content": null,
            "justify_items": null,
            "left": null,
            "margin": null,
            "max_height": null,
            "max_width": null,
            "min_height": null,
            "min_width": null,
            "object_fit": null,
            "object_position": null,
            "order": null,
            "overflow": null,
            "overflow_x": null,
            "overflow_y": null,
            "padding": null,
            "right": null,
            "top": null,
            "visibility": null,
            "width": null
          }
        },
        "2d67af9e732740e49fd3ce611f4c6a19": {
          "model_module": "@jupyter-widgets/controls",
          "model_name": "DescriptionStyleModel",
          "model_module_version": "1.5.0",
          "state": {
            "_model_module": "@jupyter-widgets/controls",
            "_model_module_version": "1.5.0",
            "_model_name": "DescriptionStyleModel",
            "_view_count": null,
            "_view_module": "@jupyter-widgets/base",
            "_view_module_version": "1.2.0",
            "_view_name": "StyleView",
            "description_width": "initial"
          }
        },
        "b7320f2bd27a4e1888993931a5a08f0e": {
          "model_module": "@jupyter-widgets/controls",
          "model_name": "TextModel",
          "model_module_version": "1.5.0",
          "state": {
            "_dom_classes": [],
            "_model_module": "@jupyter-widgets/controls",
            "_model_module_version": "1.5.0",
            "_model_name": "TextModel",
            "_view_count": null,
            "_view_module": "@jupyter-widgets/controls",
            "_view_module_version": "1.5.0",
            "_view_name": "TextView",
            "continuous_update": true,
            "description": "Apellidos:",
            "description_tooltip": null,
            "disabled": false,
            "layout": "IPY_MODEL_344277967d804cbc8b2f001d9cbea024",
            "placeholder": "​",
            "style": "IPY_MODEL_7ecf8218c5e44366a2c9ade56f23a1aa",
            "value": ""
          }
        },
        "344277967d804cbc8b2f001d9cbea024": {
          "model_module": "@jupyter-widgets/base",
          "model_name": "LayoutModel",
          "model_module_version": "1.2.0",
          "state": {
            "_model_module": "@jupyter-widgets/base",
            "_model_module_version": "1.2.0",
            "_model_name": "LayoutModel",
            "_view_count": null,
            "_view_module": "@jupyter-widgets/base",
            "_view_module_version": "1.2.0",
            "_view_name": "LayoutView",
            "align_content": null,
            "align_items": null,
            "align_self": null,
            "border": null,
            "bottom": null,
            "display": null,
            "flex": null,
            "flex_flow": null,
            "grid_area": null,
            "grid_auto_columns": null,
            "grid_auto_flow": null,
            "grid_auto_rows": null,
            "grid_column": null,
            "grid_gap": null,
            "grid_row": null,
            "grid_template_areas": null,
            "grid_template_columns": null,
            "grid_template_rows": null,
            "height": null,
            "justify_content": null,
            "justify_items": null,
            "left": null,
            "margin": null,
            "max_height": null,
            "max_width": null,
            "min_height": null,
            "min_width": null,
            "object_fit": null,
            "object_position": null,
            "order": null,
            "overflow": null,
            "overflow_x": null,
            "overflow_y": null,
            "padding": null,
            "right": null,
            "top": null,
            "visibility": null,
            "width": null
          }
        },
        "7ecf8218c5e44366a2c9ade56f23a1aa": {
          "model_module": "@jupyter-widgets/controls",
          "model_name": "DescriptionStyleModel",
          "model_module_version": "1.5.0",
          "state": {
            "_model_module": "@jupyter-widgets/controls",
            "_model_module_version": "1.5.0",
            "_model_name": "DescriptionStyleModel",
            "_view_count": null,
            "_view_module": "@jupyter-widgets/base",
            "_view_module_version": "1.2.0",
            "_view_name": "StyleView",
            "description_width": "initial"
          }
        },
        "7ac65e68e666443d88a9417d8c70d852": {
          "model_module": "@jupyter-widgets/controls",
          "model_name": "TextModel",
          "model_module_version": "1.5.0",
          "state": {
            "_dom_classes": [],
            "_model_module": "@jupyter-widgets/controls",
            "_model_module_version": "1.5.0",
            "_model_name": "TextModel",
            "_view_count": null,
            "_view_module": "@jupyter-widgets/controls",
            "_view_module_version": "1.5.0",
            "_view_name": "TextView",
            "continuous_update": true,
            "description": "Dirección:",
            "description_tooltip": null,
            "disabled": false,
            "layout": "IPY_MODEL_17885fb4739945729bce448a85e54463",
            "placeholder": "​",
            "style": "IPY_MODEL_db8c456098c345b8a62e57b257d6c3be",
            "value": ""
          }
        },
        "17885fb4739945729bce448a85e54463": {
          "model_module": "@jupyter-widgets/base",
          "model_name": "LayoutModel",
          "model_module_version": "1.2.0",
          "state": {
            "_model_module": "@jupyter-widgets/base",
            "_model_module_version": "1.2.0",
            "_model_name": "LayoutModel",
            "_view_count": null,
            "_view_module": "@jupyter-widgets/base",
            "_view_module_version": "1.2.0",
            "_view_name": "LayoutView",
            "align_content": null,
            "align_items": null,
            "align_self": null,
            "border": null,
            "bottom": null,
            "display": null,
            "flex": null,
            "flex_flow": null,
            "grid_area": null,
            "grid_auto_columns": null,
            "grid_auto_flow": null,
            "grid_auto_rows": null,
            "grid_column": null,
            "grid_gap": null,
            "grid_row": null,
            "grid_template_areas": null,
            "grid_template_columns": null,
            "grid_template_rows": null,
            "height": null,
            "justify_content": null,
            "justify_items": null,
            "left": null,
            "margin": null,
            "max_height": null,
            "max_width": null,
            "min_height": null,
            "min_width": null,
            "object_fit": null,
            "object_position": null,
            "order": null,
            "overflow": null,
            "overflow_x": null,
            "overflow_y": null,
            "padding": null,
            "right": null,
            "top": null,
            "visibility": null,
            "width": null
          }
        },
        "db8c456098c345b8a62e57b257d6c3be": {
          "model_module": "@jupyter-widgets/controls",
          "model_name": "DescriptionStyleModel",
          "model_module_version": "1.5.0",
          "state": {
            "_model_module": "@jupyter-widgets/controls",
            "_model_module_version": "1.5.0",
            "_model_name": "DescriptionStyleModel",
            "_view_count": null,
            "_view_module": "@jupyter-widgets/base",
            "_view_module_version": "1.2.0",
            "_view_name": "StyleView",
            "description_width": "initial"
          }
        },
        "b07b49f41ee44e4dab32f7654e3e995b": {
          "model_module": "@jupyter-widgets/controls",
          "model_name": "TextModel",
          "model_module_version": "1.5.0",
          "state": {
            "_dom_classes": [],
            "_model_module": "@jupyter-widgets/controls",
            "_model_module_version": "1.5.0",
            "_model_name": "TextModel",
            "_view_count": null,
            "_view_module": "@jupyter-widgets/controls",
            "_view_module_version": "1.5.0",
            "_view_name": "TextView",
            "continuous_update": true,
            "description": "Teléfono:",
            "description_tooltip": null,
            "disabled": false,
            "layout": "IPY_MODEL_594fcf42e95f4dc28385465f6f6a3757",
            "placeholder": "​",
            "style": "IPY_MODEL_36d08e2ebcb04f219ba9fdeef6efddc4",
            "value": ""
          }
        },
        "594fcf42e95f4dc28385465f6f6a3757": {
          "model_module": "@jupyter-widgets/base",
          "model_name": "LayoutModel",
          "model_module_version": "1.2.0",
          "state": {
            "_model_module": "@jupyter-widgets/base",
            "_model_module_version": "1.2.0",
            "_model_name": "LayoutModel",
            "_view_count": null,
            "_view_module": "@jupyter-widgets/base",
            "_view_module_version": "1.2.0",
            "_view_name": "LayoutView",
            "align_content": null,
            "align_items": null,
            "align_self": null,
            "border": null,
            "bottom": null,
            "display": null,
            "flex": null,
            "flex_flow": null,
            "grid_area": null,
            "grid_auto_columns": null,
            "grid_auto_flow": null,
            "grid_auto_rows": null,
            "grid_column": null,
            "grid_gap": null,
            "grid_row": null,
            "grid_template_areas": null,
            "grid_template_columns": null,
            "grid_template_rows": null,
            "height": null,
            "justify_content": null,
            "justify_items": null,
            "left": null,
            "margin": null,
            "max_height": null,
            "max_width": null,
            "min_height": null,
            "min_width": null,
            "object_fit": null,
            "object_position": null,
            "order": null,
            "overflow": null,
            "overflow_x": null,
            "overflow_y": null,
            "padding": null,
            "right": null,
            "top": null,
            "visibility": null,
            "width": null
          }
        },
        "36d08e2ebcb04f219ba9fdeef6efddc4": {
          "model_module": "@jupyter-widgets/controls",
          "model_name": "DescriptionStyleModel",
          "model_module_version": "1.5.0",
          "state": {
            "_model_module": "@jupyter-widgets/controls",
            "_model_module_version": "1.5.0",
            "_model_name": "DescriptionStyleModel",
            "_view_count": null,
            "_view_module": "@jupyter-widgets/base",
            "_view_module_version": "1.2.0",
            "_view_name": "StyleView",
            "description_width": "initial"
          }
        },
        "2b3ab5f2f14a48c0916893dac4fefbad": {
          "model_module": "@jupyter-widgets/controls",
          "model_name": "TextModel",
          "model_module_version": "1.5.0",
          "state": {
            "_dom_classes": [],
            "_model_module": "@jupyter-widgets/controls",
            "_model_module_version": "1.5.0",
            "_model_name": "TextModel",
            "_view_count": null,
            "_view_module": "@jupyter-widgets/controls",
            "_view_module_version": "1.5.0",
            "_view_name": "TextView",
            "continuous_update": true,
            "description": "Edad:",
            "description_tooltip": null,
            "disabled": false,
            "layout": "IPY_MODEL_8c4b55456a6247e39065ba46f9b29f66",
            "placeholder": "​",
            "style": "IPY_MODEL_29a1606fd7f44b2dbb24f00f279e6d47",
            "value": ""
          }
        },
        "8c4b55456a6247e39065ba46f9b29f66": {
          "model_module": "@jupyter-widgets/base",
          "model_name": "LayoutModel",
          "model_module_version": "1.2.0",
          "state": {
            "_model_module": "@jupyter-widgets/base",
            "_model_module_version": "1.2.0",
            "_model_name": "LayoutModel",
            "_view_count": null,
            "_view_module": "@jupyter-widgets/base",
            "_view_module_version": "1.2.0",
            "_view_name": "LayoutView",
            "align_content": null,
            "align_items": null,
            "align_self": null,
            "border": null,
            "bottom": null,
            "display": null,
            "flex": null,
            "flex_flow": null,
            "grid_area": null,
            "grid_auto_columns": null,
            "grid_auto_flow": null,
            "grid_auto_rows": null,
            "grid_column": null,
            "grid_gap": null,
            "grid_row": null,
            "grid_template_areas": null,
            "grid_template_columns": null,
            "grid_template_rows": null,
            "height": null,
            "justify_content": null,
            "justify_items": null,
            "left": null,
            "margin": null,
            "max_height": null,
            "max_width": null,
            "min_height": null,
            "min_width": null,
            "object_fit": null,
            "object_position": null,
            "order": null,
            "overflow": null,
            "overflow_x": null,
            "overflow_y": null,
            "padding": null,
            "right": null,
            "top": null,
            "visibility": null,
            "width": null
          }
        },
        "29a1606fd7f44b2dbb24f00f279e6d47": {
          "model_module": "@jupyter-widgets/controls",
          "model_name": "DescriptionStyleModel",
          "model_module_version": "1.5.0",
          "state": {
            "_model_module": "@jupyter-widgets/controls",
            "_model_module_version": "1.5.0",
            "_model_name": "DescriptionStyleModel",
            "_view_count": null,
            "_view_module": "@jupyter-widgets/base",
            "_view_module_version": "1.2.0",
            "_view_name": "StyleView",
            "description_width": "initial"
          }
        },
        "0180c58f00d34b8b907f688a0986c7e0": {
          "model_module": "@jupyter-widgets/controls",
          "model_name": "DropdownModel",
          "model_module_version": "1.5.0",
          "state": {
            "_dom_classes": [],
            "_model_module": "@jupyter-widgets/controls",
            "_model_module_version": "1.5.0",
            "_model_name": "DropdownModel",
            "_options_labels": [
              "Soltero",
              "Casado",
              "Viudo"
            ],
            "_view_count": null,
            "_view_module": "@jupyter-widgets/controls",
            "_view_module_version": "1.5.0",
            "_view_name": "DropdownView",
            "description": "",
            "description_tooltip": null,
            "disabled": false,
            "index": 0,
            "layout": "IPY_MODEL_9092d763bbb14939bea4b6d0233cf318",
            "style": "IPY_MODEL_2ea86b314e4f414bbf54766a6a7c963c"
          }
        },
        "9092d763bbb14939bea4b6d0233cf318": {
          "model_module": "@jupyter-widgets/base",
          "model_name": "LayoutModel",
          "model_module_version": "1.2.0",
          "state": {
            "_model_module": "@jupyter-widgets/base",
            "_model_module_version": "1.2.0",
            "_model_name": "LayoutModel",
            "_view_count": null,
            "_view_module": "@jupyter-widgets/base",
            "_view_module_version": "1.2.0",
            "_view_name": "LayoutView",
            "align_content": null,
            "align_items": null,
            "align_self": null,
            "border": null,
            "bottom": null,
            "display": null,
            "flex": null,
            "flex_flow": null,
            "grid_area": null,
            "grid_auto_columns": null,
            "grid_auto_flow": null,
            "grid_auto_rows": null,
            "grid_column": null,
            "grid_gap": null,
            "grid_row": null,
            "grid_template_areas": null,
            "grid_template_columns": null,
            "grid_template_rows": null,
            "height": null,
            "justify_content": null,
            "justify_items": null,
            "left": null,
            "margin": null,
            "max_height": null,
            "max_width": null,
            "min_height": null,
            "min_width": null,
            "object_fit": null,
            "object_position": null,
            "order": null,
            "overflow": null,
            "overflow_x": null,
            "overflow_y": null,
            "padding": null,
            "right": null,
            "top": null,
            "visibility": null,
            "width": null
          }
        },
        "2ea86b314e4f414bbf54766a6a7c963c": {
          "model_module": "@jupyter-widgets/controls",
          "model_name": "DescriptionStyleModel",
          "model_module_version": "1.5.0",
          "state": {
            "_model_module": "@jupyter-widgets/controls",
            "_model_module_version": "1.5.0",
            "_model_name": "DescriptionStyleModel",
            "_view_count": null,
            "_view_module": "@jupyter-widgets/base",
            "_view_module_version": "1.2.0",
            "_view_name": "StyleView",
            "description_width": ""
          }
        },
        "310b36d008124804ae02f2f61e96a506": {
          "model_module": "@jupyter-widgets/controls",
          "model_name": "TextModel",
          "model_module_version": "1.5.0",
          "state": {
            "_dom_classes": [],
            "_model_module": "@jupyter-widgets/controls",
            "_model_module_version": "1.5.0",
            "_model_name": "TextModel",
            "_view_count": null,
            "_view_module": "@jupyter-widgets/controls",
            "_view_module_version": "1.5.0",
            "_view_name": "TextView",
            "continuous_update": true,
            "description": "Número de hijos:",
            "description_tooltip": null,
            "disabled": false,
            "layout": "IPY_MODEL_724f552c31ab4ac49f1e13510fc44e00",
            "placeholder": "​",
            "style": "IPY_MODEL_b4e00348fd5f478caa8b5083820f161c",
            "value": ""
          }
        },
        "724f552c31ab4ac49f1e13510fc44e00": {
          "model_module": "@jupyter-widgets/base",
          "model_name": "LayoutModel",
          "model_module_version": "1.2.0",
          "state": {
            "_model_module": "@jupyter-widgets/base",
            "_model_module_version": "1.2.0",
            "_model_name": "LayoutModel",
            "_view_count": null,
            "_view_module": "@jupyter-widgets/base",
            "_view_module_version": "1.2.0",
            "_view_name": "LayoutView",
            "align_content": null,
            "align_items": null,
            "align_self": null,
            "border": null,
            "bottom": null,
            "display": null,
            "flex": null,
            "flex_flow": null,
            "grid_area": null,
            "grid_auto_columns": null,
            "grid_auto_flow": null,
            "grid_auto_rows": null,
            "grid_column": null,
            "grid_gap": null,
            "grid_row": null,
            "grid_template_areas": null,
            "grid_template_columns": null,
            "grid_template_rows": null,
            "height": null,
            "justify_content": null,
            "justify_items": null,
            "left": null,
            "margin": null,
            "max_height": null,
            "max_width": null,
            "min_height": null,
            "min_width": null,
            "object_fit": null,
            "object_position": null,
            "order": null,
            "overflow": null,
            "overflow_x": null,
            "overflow_y": null,
            "padding": null,
            "right": null,
            "top": null,
            "visibility": null,
            "width": null
          }
        },
        "b4e00348fd5f478caa8b5083820f161c": {
          "model_module": "@jupyter-widgets/controls",
          "model_name": "DescriptionStyleModel",
          "model_module_version": "1.5.0",
          "state": {
            "_model_module": "@jupyter-widgets/controls",
            "_model_module_version": "1.5.0",
            "_model_name": "DescriptionStyleModel",
            "_view_count": null,
            "_view_module": "@jupyter-widgets/base",
            "_view_module_version": "1.2.0",
            "_view_name": "StyleView",
            "description_width": "initial"
          }
        },
        "45bfb6708ace4a93b03275a7f2b2ee30": {
          "model_module": "@jupyter-widgets/controls",
          "model_name": "TextModel",
          "model_module_version": "1.5.0",
          "state": {
            "_dom_classes": [],
            "_model_module": "@jupyter-widgets/controls",
            "_model_module_version": "1.5.0",
            "_model_name": "TextModel",
            "_view_count": null,
            "_view_module": "@jupyter-widgets/controls",
            "_view_module_version": "1.5.0",
            "_view_name": "TextView",
            "continuous_update": true,
            "description": "Estatura:",
            "description_tooltip": null,
            "disabled": false,
            "layout": "IPY_MODEL_de7d061b9a644671b3d15e806f5d9e76",
            "placeholder": "​",
            "style": "IPY_MODEL_8175d47802a749e3afafe005e20cdbfd",
            "value": ""
          }
        },
        "de7d061b9a644671b3d15e806f5d9e76": {
          "model_module": "@jupyter-widgets/base",
          "model_name": "LayoutModel",
          "model_module_version": "1.2.0",
          "state": {
            "_model_module": "@jupyter-widgets/base",
            "_model_module_version": "1.2.0",
            "_model_name": "LayoutModel",
            "_view_count": null,
            "_view_module": "@jupyter-widgets/base",
            "_view_module_version": "1.2.0",
            "_view_name": "LayoutView",
            "align_content": null,
            "align_items": null,
            "align_self": null,
            "border": null,
            "bottom": null,
            "display": null,
            "flex": null,
            "flex_flow": null,
            "grid_area": null,
            "grid_auto_columns": null,
            "grid_auto_flow": null,
            "grid_auto_rows": null,
            "grid_column": null,
            "grid_gap": null,
            "grid_row": null,
            "grid_template_areas": null,
            "grid_template_columns": null,
            "grid_template_rows": null,
            "height": null,
            "justify_content": null,
            "justify_items": null,
            "left": null,
            "margin": null,
            "max_height": null,
            "max_width": null,
            "min_height": null,
            "min_width": null,
            "object_fit": null,
            "object_position": null,
            "order": null,
            "overflow": null,
            "overflow_x": null,
            "overflow_y": null,
            "padding": null,
            "right": null,
            "top": null,
            "visibility": null,
            "width": null
          }
        },
        "8175d47802a749e3afafe005e20cdbfd": {
          "model_module": "@jupyter-widgets/controls",
          "model_name": "DescriptionStyleModel",
          "model_module_version": "1.5.0",
          "state": {
            "_model_module": "@jupyter-widgets/controls",
            "_model_module_version": "1.5.0",
            "_model_name": "DescriptionStyleModel",
            "_view_count": null,
            "_view_module": "@jupyter-widgets/base",
            "_view_module_version": "1.2.0",
            "_view_name": "StyleView",
            "description_width": "initial"
          }
        },
        "b565a60093ab4d9287e0468039c2d99b": {
          "model_module": "@jupyter-widgets/controls",
          "model_name": "TextModel",
          "model_module_version": "1.5.0",
          "state": {
            "_dom_classes": [],
            "_model_module": "@jupyter-widgets/controls",
            "_model_module_version": "1.5.0",
            "_model_name": "TextModel",
            "_view_count": null,
            "_view_module": "@jupyter-widgets/controls",
            "_view_module_version": "1.5.0",
            "_view_name": "TextView",
            "continuous_update": true,
            "description": "Fecha de contratación:",
            "description_tooltip": null,
            "disabled": false,
            "layout": "IPY_MODEL_b1295cad58fd4b658cbfc6c43cf75c5e",
            "placeholder": "​",
            "style": "IPY_MODEL_c434cefb4fd4486db6a820e8cb6d1d83",
            "value": ""
          }
        },
        "b1295cad58fd4b658cbfc6c43cf75c5e": {
          "model_module": "@jupyter-widgets/base",
          "model_name": "LayoutModel",
          "model_module_version": "1.2.0",
          "state": {
            "_model_module": "@jupyter-widgets/base",
            "_model_module_version": "1.2.0",
            "_model_name": "LayoutModel",
            "_view_count": null,
            "_view_module": "@jupyter-widgets/base",
            "_view_module_version": "1.2.0",
            "_view_name": "LayoutView",
            "align_content": null,
            "align_items": null,
            "align_self": null,
            "border": null,
            "bottom": null,
            "display": null,
            "flex": null,
            "flex_flow": null,
            "grid_area": null,
            "grid_auto_columns": null,
            "grid_auto_flow": null,
            "grid_auto_rows": null,
            "grid_column": null,
            "grid_gap": null,
            "grid_row": null,
            "grid_template_areas": null,
            "grid_template_columns": null,
            "grid_template_rows": null,
            "height": null,
            "justify_content": null,
            "justify_items": null,
            "left": null,
            "margin": null,
            "max_height": null,
            "max_width": null,
            "min_height": null,
            "min_width": null,
            "object_fit": null,
            "object_position": null,
            "order": null,
            "overflow": null,
            "overflow_x": null,
            "overflow_y": null,
            "padding": null,
            "right": null,
            "top": null,
            "visibility": null,
            "width": null
          }
        },
        "c434cefb4fd4486db6a820e8cb6d1d83": {
          "model_module": "@jupyter-widgets/controls",
          "model_name": "DescriptionStyleModel",
          "model_module_version": "1.5.0",
          "state": {
            "_model_module": "@jupyter-widgets/controls",
            "_model_module_version": "1.5.0",
            "_model_name": "DescriptionStyleModel",
            "_view_count": null,
            "_view_module": "@jupyter-widgets/base",
            "_view_module_version": "1.2.0",
            "_view_name": "StyleView",
            "description_width": "initial"
          }
        },
        "48f9bfe01c704b16a28d235ce763d09a": {
          "model_module": "@jupyter-widgets/controls",
          "model_name": "TextModel",
          "model_module_version": "1.5.0",
          "state": {
            "_dom_classes": [],
            "_model_module": "@jupyter-widgets/controls",
            "_model_module_version": "1.5.0",
            "_model_name": "TextModel",
            "_view_count": null,
            "_view_module": "@jupyter-widgets/controls",
            "_view_module_version": "1.5.0",
            "_view_name": "TextView",
            "continuous_update": true,
            "description": "Sueldo básico:",
            "description_tooltip": null,
            "disabled": false,
            "layout": "IPY_MODEL_578c34dc1e204e3eb3931148731b034b",
            "placeholder": "​",
            "style": "IPY_MODEL_fb6fbfefad9b494f89f4f3a31ef6dfd7",
            "value": ""
          }
        },
        "578c34dc1e204e3eb3931148731b034b": {
          "model_module": "@jupyter-widgets/base",
          "model_name": "LayoutModel",
          "model_module_version": "1.2.0",
          "state": {
            "_model_module": "@jupyter-widgets/base",
            "_model_module_version": "1.2.0",
            "_model_name": "LayoutModel",
            "_view_count": null,
            "_view_module": "@jupyter-widgets/base",
            "_view_module_version": "1.2.0",
            "_view_name": "LayoutView",
            "align_content": null,
            "align_items": null,
            "align_self": null,
            "border": null,
            "bottom": null,
            "display": null,
            "flex": null,
            "flex_flow": null,
            "grid_area": null,
            "grid_auto_columns": null,
            "grid_auto_flow": null,
            "grid_auto_rows": null,
            "grid_column": null,
            "grid_gap": null,
            "grid_row": null,
            "grid_template_areas": null,
            "grid_template_columns": null,
            "grid_template_rows": null,
            "height": null,
            "justify_content": null,
            "justify_items": null,
            "left": null,
            "margin": null,
            "max_height": null,
            "max_width": null,
            "min_height": null,
            "min_width": null,
            "object_fit": null,
            "object_position": null,
            "order": null,
            "overflow": null,
            "overflow_x": null,
            "overflow_y": null,
            "padding": null,
            "right": null,
            "top": null,
            "visibility": null,
            "width": null
          }
        },
        "fb6fbfefad9b494f89f4f3a31ef6dfd7": {
          "model_module": "@jupyter-widgets/controls",
          "model_name": "DescriptionStyleModel",
          "model_module_version": "1.5.0",
          "state": {
            "_model_module": "@jupyter-widgets/controls",
            "_model_module_version": "1.5.0",
            "_model_name": "DescriptionStyleModel",
            "_view_count": null,
            "_view_module": "@jupyter-widgets/base",
            "_view_module_version": "1.2.0",
            "_view_name": "StyleView",
            "description_width": "initial"
          }
        },
        "c6eda4257a2048388163d411346278b2": {
          "model_module": "@jupyter-widgets/controls",
          "model_name": "TextModel",
          "model_module_version": "1.5.0",
          "state": {
            "_dom_classes": [],
            "_model_module": "@jupyter-widgets/controls",
            "_model_module_version": "1.5.0",
            "_model_name": "TextModel",
            "_view_count": null,
            "_view_module": "@jupyter-widgets/controls",
            "_view_module_version": "1.5.0",
            "_view_name": "TextView",
            "continuous_update": true,
            "description": "Días laborados:",
            "description_tooltip": null,
            "disabled": false,
            "layout": "IPY_MODEL_aaa99619591c47b29e84dbef7e04dd18",
            "placeholder": "​",
            "style": "IPY_MODEL_f0d1a4af1d394f079db217f10b039e84",
            "value": ""
          }
        },
        "aaa99619591c47b29e84dbef7e04dd18": {
          "model_module": "@jupyter-widgets/base",
          "model_name": "LayoutModel",
          "model_module_version": "1.2.0",
          "state": {
            "_model_module": "@jupyter-widgets/base",
            "_model_module_version": "1.2.0",
            "_model_name": "LayoutModel",
            "_view_count": null,
            "_view_module": "@jupyter-widgets/base",
            "_view_module_version": "1.2.0",
            "_view_name": "LayoutView",
            "align_content": null,
            "align_items": null,
            "align_self": null,
            "border": null,
            "bottom": null,
            "display": null,
            "flex": null,
            "flex_flow": null,
            "grid_area": null,
            "grid_auto_columns": null,
            "grid_auto_flow": null,
            "grid_auto_rows": null,
            "grid_column": null,
            "grid_gap": null,
            "grid_row": null,
            "grid_template_areas": null,
            "grid_template_columns": null,
            "grid_template_rows": null,
            "height": null,
            "justify_content": null,
            "justify_items": null,
            "left": null,
            "margin": null,
            "max_height": null,
            "max_width": null,
            "min_height": null,
            "min_width": null,
            "object_fit": null,
            "object_position": null,
            "order": null,
            "overflow": null,
            "overflow_x": null,
            "overflow_y": null,
            "padding": null,
            "right": null,
            "top": null,
            "visibility": null,
            "width": null
          }
        },
        "f0d1a4af1d394f079db217f10b039e84": {
          "model_module": "@jupyter-widgets/controls",
          "model_name": "DescriptionStyleModel",
          "model_module_version": "1.5.0",
          "state": {
            "_model_module": "@jupyter-widgets/controls",
            "_model_module_version": "1.5.0",
            "_model_name": "DescriptionStyleModel",
            "_view_count": null,
            "_view_module": "@jupyter-widgets/base",
            "_view_module_version": "1.2.0",
            "_view_name": "StyleView",
            "description_width": "initial"
          }
        },
        "1eedcd0921664e5b996cda976775c6f1": {
          "model_module": "@jupyter-widgets/controls",
          "model_name": "ButtonModel",
          "model_module_version": "1.5.0",
          "state": {
            "_dom_classes": [],
            "_model_module": "@jupyter-widgets/controls",
            "_model_module_version": "1.5.0",
            "_model_name": "ButtonModel",
            "_view_count": null,
            "_view_module": "@jupyter-widgets/controls",
            "_view_module_version": "1.5.0",
            "_view_name": "ButtonView",
            "button_style": "",
            "description": "Imprimir datos",
            "disabled": false,
            "icon": "",
            "layout": "IPY_MODEL_51eda41c03d64b9c991005635ff5915f",
            "style": "IPY_MODEL_9cd6e50bf6324ee9bf8f4dfa170e33c6",
            "tooltip": ""
          }
        },
        "51eda41c03d64b9c991005635ff5915f": {
          "model_module": "@jupyter-widgets/base",
          "model_name": "LayoutModel",
          "model_module_version": "1.2.0",
          "state": {
            "_model_module": "@jupyter-widgets/base",
            "_model_module_version": "1.2.0",
            "_model_name": "LayoutModel",
            "_view_count": null,
            "_view_module": "@jupyter-widgets/base",
            "_view_module_version": "1.2.0",
            "_view_name": "LayoutView",
            "align_content": null,
            "align_items": null,
            "align_self": null,
            "border": null,
            "bottom": null,
            "display": null,
            "flex": null,
            "flex_flow": null,
            "grid_area": null,
            "grid_auto_columns": null,
            "grid_auto_flow": null,
            "grid_auto_rows": null,
            "grid_column": null,
            "grid_gap": null,
            "grid_row": null,
            "grid_template_areas": null,
            "grid_template_columns": null,
            "grid_template_rows": null,
            "height": null,
            "justify_content": null,
            "justify_items": null,
            "left": null,
            "margin": null,
            "max_height": null,
            "max_width": null,
            "min_height": null,
            "min_width": null,
            "object_fit": null,
            "object_position": null,
            "order": null,
            "overflow": null,
            "overflow_x": null,
            "overflow_y": null,
            "padding": null,
            "right": null,
            "top": null,
            "visibility": null,
            "width": null
          }
        },
        "9cd6e50bf6324ee9bf8f4dfa170e33c6": {
          "model_module": "@jupyter-widgets/controls",
          "model_name": "ButtonStyleModel",
          "model_module_version": "1.5.0",
          "state": {
            "_model_module": "@jupyter-widgets/controls",
            "_model_module_version": "1.5.0",
            "_model_name": "ButtonStyleModel",
            "_view_count": null,
            "_view_module": "@jupyter-widgets/base",
            "_view_module_version": "1.2.0",
            "_view_name": "StyleView",
            "button_color": null,
            "font_weight": ""
          }
        }
      }
    }
  },
  "cells": [
    {
      "cell_type": "markdown",
      "source": [
        "# Iniciando con Python"
      ],
      "metadata": {
        "id": "sKyWz3t9uAsl"
      }
    },
    {
      "cell_type": "code",
      "source": [
        "nombreP = input(\"digite su nombre\")\n",
        "print(nombreP)"
      ],
      "metadata": {
        "id": "0Ytwlqott_G1",
        "colab": {
          "base_uri": "https://localhost:8080/",
          "height": 341
        },
        "outputId": "18d19bb3-9c9f-484d-bcc9-3722e0261a41"
      },
      "execution_count": null,
      "outputs": [
        {
          "output_type": "error",
          "ename": "KeyboardInterrupt",
          "evalue": "ignored",
          "traceback": [
            "\u001b[0;31m---------------------------------------------------------------------------\u001b[0m",
            "\u001b[0;31mKeyboardInterrupt\u001b[0m                         Traceback (most recent call last)",
            "\u001b[0;32m<ipython-input-21-6a63b5dfc1dd>\u001b[0m in \u001b[0;36m<module>\u001b[0;34m\u001b[0m\n\u001b[0;32m----> 1\u001b[0;31m \u001b[0mnombreP\u001b[0m \u001b[0;34m=\u001b[0m \u001b[0minput\u001b[0m\u001b[0;34m(\u001b[0m\u001b[0;34m\"digite su nombre\"\u001b[0m\u001b[0;34m)\u001b[0m\u001b[0;34m\u001b[0m\u001b[0;34m\u001b[0m\u001b[0m\n\u001b[0m\u001b[1;32m      2\u001b[0m \u001b[0mprint\u001b[0m\u001b[0;34m(\u001b[0m\u001b[0mnombreP\u001b[0m\u001b[0;34m)\u001b[0m\u001b[0;34m\u001b[0m\u001b[0;34m\u001b[0m\u001b[0m\n",
            "\u001b[0;32m/usr/local/lib/python3.9/dist-packages/ipykernel/kernelbase.py\u001b[0m in \u001b[0;36mraw_input\u001b[0;34m(self, prompt)\u001b[0m\n\u001b[1;32m    858\u001b[0m                 \u001b[0;34m\"raw_input was called, but this frontend does not support input requests.\"\u001b[0m\u001b[0;34m\u001b[0m\u001b[0;34m\u001b[0m\u001b[0m\n\u001b[1;32m    859\u001b[0m             )\n\u001b[0;32m--> 860\u001b[0;31m         return self._input_request(str(prompt),\n\u001b[0m\u001b[1;32m    861\u001b[0m             \u001b[0mself\u001b[0m\u001b[0;34m.\u001b[0m\u001b[0m_parent_ident\u001b[0m\u001b[0;34m,\u001b[0m\u001b[0;34m\u001b[0m\u001b[0;34m\u001b[0m\u001b[0m\n\u001b[1;32m    862\u001b[0m             \u001b[0mself\u001b[0m\u001b[0;34m.\u001b[0m\u001b[0m_parent_header\u001b[0m\u001b[0;34m,\u001b[0m\u001b[0;34m\u001b[0m\u001b[0;34m\u001b[0m\u001b[0m\n",
            "\u001b[0;32m/usr/local/lib/python3.9/dist-packages/ipykernel/kernelbase.py\u001b[0m in \u001b[0;36m_input_request\u001b[0;34m(self, prompt, ident, parent, password)\u001b[0m\n\u001b[1;32m    902\u001b[0m             \u001b[0;32mexcept\u001b[0m \u001b[0mKeyboardInterrupt\u001b[0m\u001b[0;34m:\u001b[0m\u001b[0;34m\u001b[0m\u001b[0;34m\u001b[0m\u001b[0m\n\u001b[1;32m    903\u001b[0m                 \u001b[0;31m# re-raise KeyboardInterrupt, to truncate traceback\u001b[0m\u001b[0;34m\u001b[0m\u001b[0;34m\u001b[0m\u001b[0m\n\u001b[0;32m--> 904\u001b[0;31m                 \u001b[0;32mraise\u001b[0m \u001b[0mKeyboardInterrupt\u001b[0m\u001b[0;34m(\u001b[0m\u001b[0;34m\"Interrupted by user\"\u001b[0m\u001b[0;34m)\u001b[0m \u001b[0;32mfrom\u001b[0m \u001b[0;32mNone\u001b[0m\u001b[0;34m\u001b[0m\u001b[0;34m\u001b[0m\u001b[0m\n\u001b[0m\u001b[1;32m    905\u001b[0m             \u001b[0;32mexcept\u001b[0m \u001b[0mException\u001b[0m \u001b[0;32mas\u001b[0m \u001b[0me\u001b[0m\u001b[0;34m:\u001b[0m\u001b[0;34m\u001b[0m\u001b[0;34m\u001b[0m\u001b[0m\n\u001b[1;32m    906\u001b[0m                 \u001b[0mself\u001b[0m\u001b[0;34m.\u001b[0m\u001b[0mlog\u001b[0m\u001b[0;34m.\u001b[0m\u001b[0mwarning\u001b[0m\u001b[0;34m(\u001b[0m\u001b[0;34m\"Invalid Message:\"\u001b[0m\u001b[0;34m,\u001b[0m \u001b[0mexc_info\u001b[0m\u001b[0;34m=\u001b[0m\u001b[0;32mTrue\u001b[0m\u001b[0;34m)\u001b[0m\u001b[0;34m\u001b[0m\u001b[0;34m\u001b[0m\u001b[0m\n",
            "\u001b[0;31mKeyboardInterrupt\u001b[0m: Interrupted by user"
          ]
        }
      ]
    },
    {
      "cell_type": "markdown",
      "source": [
        "Clase 14/03/2023\n",
        "####Fundamentos de Programación\n",
        "CET Colsubsidio"
      ],
      "metadata": {
        "id": "WanSuh_jFeMm"
      }
    },
    {
      "cell_type": "markdown",
      "source": [
        "Taller 1\n",
        "\n",
        "No de Identificación, Nombres, Apellidos, Dirección, Teléfono, Edad, Estado Civil, Número de hijos, Estatura en centímetros, fecha de contratación (Día/mes/año), Sueldo básico, Días Laborados."
      ],
      "metadata": {
        "id": "z8y0cyJ3FkFt"
      }
    },
    {
      "cell_type": "code",
      "source": [
        "#importar librerias para el funcionamiento del formulario y para el boton de \"imprimir datos\n",
        "#ipwidgets es una librería que proporciona widgets para campos de entrada de texto esto es lo que más abajo dejará\n",
        "#mostrar los campos como si fuesen un formulario\n",
        "\n",
        "!pip install ipywidgets\n",
        "\n",
        "import ipywidgets as widgets\n",
        "from IPython.display import display\n",
        "from IPython.display import display, HTML\n",
        "\n",
        "#Se definen las opciones para la variable \"Estado Civil\", la idea es que se escoja de una lista desplegable\n",
        "opciones = ['Soltero', 'Casado', 'Viudo']\n",
        "lista_desplegable = widgets.Dropdown(options=opciones)\n",
        "\n"
      ],
      "metadata": {
        "colab": {
          "base_uri": "https://localhost:8080/",
          "height": 1000
        },
        "id": "c6u5yQpXFwwl",
        "outputId": "2d30f9ce-299e-4352-d9c3-0dacdd53ea24"
      },
      "execution_count": null,
      "outputs": [
        {
          "output_type": "stream",
          "name": "stdout",
          "text": [
            "Looking in indexes: https://pypi.org/simple, https://us-python.pkg.dev/colab-wheels/public/simple/\n",
            "Requirement already satisfied: ipywidgets in /usr/local/lib/python3.9/dist-packages (7.7.1)\n",
            "Requirement already satisfied: widgetsnbextension~=3.6.0 in /usr/local/lib/python3.9/dist-packages (from ipywidgets) (3.6.2)\n",
            "Requirement already satisfied: ipykernel>=4.5.1 in /usr/local/lib/python3.9/dist-packages (from ipywidgets) (5.3.4)\n",
            "Requirement already satisfied: ipython-genutils~=0.2.0 in /usr/local/lib/python3.9/dist-packages (from ipywidgets) (0.2.0)\n",
            "Requirement already satisfied: jupyterlab-widgets>=1.0.0 in /usr/local/lib/python3.9/dist-packages (from ipywidgets) (3.0.5)\n",
            "Requirement already satisfied: ipython>=4.0.0 in /usr/local/lib/python3.9/dist-packages (from ipywidgets) (7.9.0)\n",
            "Requirement already satisfied: traitlets>=4.3.1 in /usr/local/lib/python3.9/dist-packages (from ipywidgets) (5.7.1)\n",
            "Requirement already satisfied: jupyter-client in /usr/local/lib/python3.9/dist-packages (from ipykernel>=4.5.1->ipywidgets) (6.1.12)\n",
            "Requirement already satisfied: tornado>=4.2 in /usr/local/lib/python3.9/dist-packages (from ipykernel>=4.5.1->ipywidgets) (6.2)\n",
            "Requirement already satisfied: decorator in /usr/local/lib/python3.9/dist-packages (from ipython>=4.0.0->ipywidgets) (4.4.2)\n",
            "Requirement already satisfied: prompt-toolkit<2.1.0,>=2.0.0 in /usr/local/lib/python3.9/dist-packages (from ipython>=4.0.0->ipywidgets) (2.0.10)\n",
            "Requirement already satisfied: backcall in /usr/local/lib/python3.9/dist-packages (from ipython>=4.0.0->ipywidgets) (0.2.0)\n",
            "Collecting jedi>=0.10\n",
            "  Downloading jedi-0.18.2-py2.py3-none-any.whl (1.6 MB)\n",
            "\u001b[2K     \u001b[90m━━━━━━━━━━━━━━━━━━━━━━━━━━━━━━━━━━━━━━━━\u001b[0m \u001b[32m1.6/1.6 MB\u001b[0m \u001b[31m12.8 MB/s\u001b[0m eta \u001b[36m0:00:00\u001b[0m\n",
            "\u001b[?25hRequirement already satisfied: pexpect in /usr/local/lib/python3.9/dist-packages (from ipython>=4.0.0->ipywidgets) (4.8.0)\n",
            "Requirement already satisfied: pygments in /usr/local/lib/python3.9/dist-packages (from ipython>=4.0.0->ipywidgets) (2.6.1)\n",
            "Requirement already satisfied: pickleshare in /usr/local/lib/python3.9/dist-packages (from ipython>=4.0.0->ipywidgets) (0.7.5)\n",
            "Requirement already satisfied: setuptools>=18.5 in /usr/local/lib/python3.9/dist-packages (from ipython>=4.0.0->ipywidgets) (63.4.3)\n",
            "Requirement already satisfied: notebook>=4.4.1 in /usr/local/lib/python3.9/dist-packages (from widgetsnbextension~=3.6.0->ipywidgets) (6.3.0)\n",
            "Requirement already satisfied: parso<0.9.0,>=0.8.0 in /usr/local/lib/python3.9/dist-packages (from jedi>=0.10->ipython>=4.0.0->ipywidgets) (0.8.3)\n",
            "Requirement already satisfied: nbformat in /usr/local/lib/python3.9/dist-packages (from notebook>=4.4.1->widgetsnbextension~=3.6.0->ipywidgets) (5.7.3)\n",
            "Requirement already satisfied: Send2Trash>=1.5.0 in /usr/local/lib/python3.9/dist-packages (from notebook>=4.4.1->widgetsnbextension~=3.6.0->ipywidgets) (1.8.0)\n",
            "Requirement already satisfied: prometheus-client in /usr/local/lib/python3.9/dist-packages (from notebook>=4.4.1->widgetsnbextension~=3.6.0->ipywidgets) (0.16.0)\n",
            "Requirement already satisfied: nbconvert in /usr/local/lib/python3.9/dist-packages (from notebook>=4.4.1->widgetsnbextension~=3.6.0->ipywidgets) (6.5.4)\n",
            "Requirement already satisfied: argon2-cffi in /usr/local/lib/python3.9/dist-packages (from notebook>=4.4.1->widgetsnbextension~=3.6.0->ipywidgets) (21.3.0)\n",
            "Requirement already satisfied: jupyter-core>=4.6.1 in /usr/local/lib/python3.9/dist-packages (from notebook>=4.4.1->widgetsnbextension~=3.6.0->ipywidgets) (5.2.0)\n",
            "Requirement already satisfied: pyzmq>=17 in /usr/local/lib/python3.9/dist-packages (from notebook>=4.4.1->widgetsnbextension~=3.6.0->ipywidgets) (23.2.1)\n",
            "Requirement already satisfied: jinja2 in /usr/local/lib/python3.9/dist-packages (from notebook>=4.4.1->widgetsnbextension~=3.6.0->ipywidgets) (3.1.2)\n",
            "Requirement already satisfied: terminado>=0.8.3 in /usr/local/lib/python3.9/dist-packages (from notebook>=4.4.1->widgetsnbextension~=3.6.0->ipywidgets) (0.17.1)\n",
            "Requirement already satisfied: python-dateutil>=2.1 in /usr/local/lib/python3.9/dist-packages (from jupyter-client->ipykernel>=4.5.1->ipywidgets) (2.8.2)\n",
            "Requirement already satisfied: wcwidth in /usr/local/lib/python3.9/dist-packages (from prompt-toolkit<2.1.0,>=2.0.0->ipython>=4.0.0->ipywidgets) (0.2.6)\n",
            "Requirement already satisfied: six>=1.9.0 in /usr/local/lib/python3.9/dist-packages (from prompt-toolkit<2.1.0,>=2.0.0->ipython>=4.0.0->ipywidgets) (1.15.0)\n",
            "Requirement already satisfied: ptyprocess>=0.5 in /usr/local/lib/python3.9/dist-packages (from pexpect->ipython>=4.0.0->ipywidgets) (0.7.0)\n",
            "Requirement already satisfied: platformdirs>=2.5 in /usr/local/lib/python3.9/dist-packages (from jupyter-core>=4.6.1->notebook>=4.4.1->widgetsnbextension~=3.6.0->ipywidgets) (3.1.1)\n",
            "Requirement already satisfied: argon2-cffi-bindings in /usr/local/lib/python3.9/dist-packages (from argon2-cffi->notebook>=4.4.1->widgetsnbextension~=3.6.0->ipywidgets) (21.2.0)\n",
            "Requirement already satisfied: MarkupSafe>=2.0 in /usr/local/lib/python3.9/dist-packages (from jinja2->notebook>=4.4.1->widgetsnbextension~=3.6.0->ipywidgets) (2.1.2)\n",
            "Requirement already satisfied: beautifulsoup4 in /usr/local/lib/python3.9/dist-packages (from nbconvert->notebook>=4.4.1->widgetsnbextension~=3.6.0->ipywidgets) (4.9.3)\n",
            "Requirement already satisfied: bleach in /usr/local/lib/python3.9/dist-packages (from nbconvert->notebook>=4.4.1->widgetsnbextension~=3.6.0->ipywidgets) (6.0.0)\n",
            "Requirement already satisfied: tinycss2 in /usr/local/lib/python3.9/dist-packages (from nbconvert->notebook>=4.4.1->widgetsnbextension~=3.6.0->ipywidgets) (1.2.1)\n",
            "Requirement already satisfied: pandocfilters>=1.4.1 in /usr/local/lib/python3.9/dist-packages (from nbconvert->notebook>=4.4.1->widgetsnbextension~=3.6.0->ipywidgets) (1.5.0)\n",
            "Requirement already satisfied: packaging in /usr/local/lib/python3.9/dist-packages (from nbconvert->notebook>=4.4.1->widgetsnbextension~=3.6.0->ipywidgets) (23.0)\n",
            "Requirement already satisfied: jupyterlab-pygments in /usr/local/lib/python3.9/dist-packages (from nbconvert->notebook>=4.4.1->widgetsnbextension~=3.6.0->ipywidgets) (0.2.2)\n",
            "Requirement already satisfied: mistune<2,>=0.8.1 in /usr/local/lib/python3.9/dist-packages (from nbconvert->notebook>=4.4.1->widgetsnbextension~=3.6.0->ipywidgets) (0.8.4)\n",
            "Requirement already satisfied: defusedxml in /usr/local/lib/python3.9/dist-packages (from nbconvert->notebook>=4.4.1->widgetsnbextension~=3.6.0->ipywidgets) (0.7.1)\n",
            "Requirement already satisfied: lxml in /usr/local/lib/python3.9/dist-packages (from nbconvert->notebook>=4.4.1->widgetsnbextension~=3.6.0->ipywidgets) (4.9.2)\n",
            "Requirement already satisfied: nbclient>=0.5.0 in /usr/local/lib/python3.9/dist-packages (from nbconvert->notebook>=4.4.1->widgetsnbextension~=3.6.0->ipywidgets) (0.7.2)\n",
            "Requirement already satisfied: entrypoints>=0.2.2 in /usr/local/lib/python3.9/dist-packages (from nbconvert->notebook>=4.4.1->widgetsnbextension~=3.6.0->ipywidgets) (0.4)\n",
            "Requirement already satisfied: jsonschema>=2.6 in /usr/local/lib/python3.9/dist-packages (from nbformat->notebook>=4.4.1->widgetsnbextension~=3.6.0->ipywidgets) (4.3.3)\n",
            "Requirement already satisfied: fastjsonschema in /usr/local/lib/python3.9/dist-packages (from nbformat->notebook>=4.4.1->widgetsnbextension~=3.6.0->ipywidgets) (2.16.3)\n",
            "Requirement already satisfied: pyrsistent!=0.17.0,!=0.17.1,!=0.17.2,>=0.14.0 in /usr/local/lib/python3.9/dist-packages (from jsonschema>=2.6->nbformat->notebook>=4.4.1->widgetsnbextension~=3.6.0->ipywidgets) (0.19.3)\n",
            "Requirement already satisfied: attrs>=17.4.0 in /usr/local/lib/python3.9/dist-packages (from jsonschema>=2.6->nbformat->notebook>=4.4.1->widgetsnbextension~=3.6.0->ipywidgets) (22.2.0)\n",
            "Requirement already satisfied: cffi>=1.0.1 in /usr/local/lib/python3.9/dist-packages (from argon2-cffi-bindings->argon2-cffi->notebook>=4.4.1->widgetsnbextension~=3.6.0->ipywidgets) (1.15.1)\n",
            "Requirement already satisfied: soupsieve>1.2 in /usr/local/lib/python3.9/dist-packages (from beautifulsoup4->nbconvert->notebook>=4.4.1->widgetsnbextension~=3.6.0->ipywidgets) (2.4)\n",
            "Requirement already satisfied: webencodings in /usr/local/lib/python3.9/dist-packages (from bleach->nbconvert->notebook>=4.4.1->widgetsnbextension~=3.6.0->ipywidgets) (0.5.1)\n",
            "Requirement already satisfied: pycparser in /usr/local/lib/python3.9/dist-packages (from cffi>=1.0.1->argon2-cffi-bindings->argon2-cffi->notebook>=4.4.1->widgetsnbextension~=3.6.0->ipywidgets) (2.21)\n",
            "Installing collected packages: jedi\n",
            "Successfully installed jedi-0.18.2\n"
          ]
        }
      ]
    },
    {
      "cell_type": "code",
      "source": [],
      "metadata": {
        "id": "GQz0RfN1yptg"
      },
      "execution_count": null,
      "outputs": []
    },
    {
      "cell_type": "code",
      "source": [
        "estilo = {'description_width': 'initial', 'max-width': '300px'}\n",
        "\n",
        "# Se crean los campos del formulario  de entrada de texto con el estilo especificado\n",
        "NumeroIdentificación1 = widgets.Text(description=\"Número de identidad:\", style=estilo)\n",
        "Nombres1 = widgets.Text(description=\"Nombres:\", style=estilo)\n",
        "Apellidos1 = widgets.Text(description=\"Apellidos:\", style=estilo)\n",
        "Direccion1 = widgets.Text(description=\"Dirección:\", style=estilo)\n",
        "Telefono1 = widgets.Text(description=\"Teléfono:\", style=estilo)\n",
        "Edad1 = widgets.Text(description=\"Edad:\", style=estilo)\n",
        "NumeroHijos1 = widgets.Text(description=\"Número de hijos:\", style=estilo)\n",
        "Estatura1 = widgets.Text(description=\"Estatura:\", style=estilo)\n",
        "FechaContratacion1 = widgets.Text(description=\"Fecha de contratación:\", style=estilo)\n",
        "SueldoBasico1 = widgets.Text(description=\"Sueldo básico:\", style=estilo)\n",
        "DiasLaborados1 = widgets.Text(description=\"Días laborados:\", style=estilo)\n",
        "\n",
        "#Se crea el botón de imprimir datos para que cuando se ejecute el print que está más abajo no lo haga\n",
        "#simultaneamente con el formulario porque traería campos vacios\n",
        "\n",
        "boton_imprimir = widgets.Button(description=\"Imprimir datos\")\n",
        "\n",
        "# Función que se ejecuta cuando se presiona el botón de imprimir datos solo se imprimen los datos que se ingresen en\n",
        "#el formulario\n",
        "\n",
        "def imprimir_datos(b):\n",
        "    print(\"...........................................................................\")\n",
        "    print(\"Estimado \"+Nombres1.value+\" \"+Apellidos1.value+\" sus datos son los siguientes:\\n\"+\n",
        "          \"Número de identificación: \"+NumeroIdentificación1.value+\"\\n\"+\n",
        "          \"Dirección: \"+Direccion1.value+\"\\n\"+\n",
        "          \"Teléfono: \"+Telefono1.value+\"\\n\"+\n",
        "          \"Edad: \"+Edad1.value+\"\\n\"+\n",
        "          \"Estado civil: \"+lista_desplegable.value+\"\\n\"+\n",
        "          \"Número de hijos: \"+NumeroHijos1.value+\"\\n\"+\n",
        "          \"Estatura: \"+Estatura1.value+\" cm\"+\"\\n\"+\n",
        "          \"Fecha de contratación: \"+FechaContratacion1.value+\"\\n\"+\n",
        "          \"Sueldo básico: \"+SueldoBasico1.value+\"\\n\"+\n",
        "          \"Días Laborados: \"+DiasLaborados1.value)\n",
        "    print(\"...........................................................................\")\n",
        "\n",
        "# Asignar la función de impresión al botón\n",
        "boton_imprimir.on_click(imprimir_datos)\n",
        "\n",
        "# Mostrar los widgets y el botón en pantalla\n",
        "display(NumeroIdentificación1)\n",
        "display(Nombres1)\n",
        "display(Apellidos1)\n",
        "display(Direccion1)\n",
        "display(Telefono1)\n",
        "display(Edad1)\n",
        "print(\"Seleccione su estado civil:\")\n",
        "display(lista_desplegable)\n",
        "display(NumeroHijos1)\n",
        "display(Estatura1)\n",
        "display(FechaContratacion1)\n",
        "display(SueldoBasico1)\n",
        "display(DiasLaborados1)\n",
        "display(boton_imprimir)"
      ],
      "metadata": {
        "colab": {
          "base_uri": "https://localhost:8080/",
          "height": 435,
          "referenced_widgets": [
            "3fbdbf0c2e294d62af6fc18028d51c61",
            "6bddd2a8f7414c1dbaa6e53fc3d769dd",
            "4b52b79dd8d64f788ff27e98bc5e1069",
            "4b67a0e141d84da8abf029652189daf0",
            "ed1bc071e3124014adb1c6c9d0b24346",
            "2d67af9e732740e49fd3ce611f4c6a19",
            "b7320f2bd27a4e1888993931a5a08f0e",
            "344277967d804cbc8b2f001d9cbea024",
            "7ecf8218c5e44366a2c9ade56f23a1aa",
            "7ac65e68e666443d88a9417d8c70d852",
            "17885fb4739945729bce448a85e54463",
            "db8c456098c345b8a62e57b257d6c3be",
            "b07b49f41ee44e4dab32f7654e3e995b",
            "594fcf42e95f4dc28385465f6f6a3757",
            "36d08e2ebcb04f219ba9fdeef6efddc4",
            "2b3ab5f2f14a48c0916893dac4fefbad",
            "8c4b55456a6247e39065ba46f9b29f66",
            "29a1606fd7f44b2dbb24f00f279e6d47",
            "0180c58f00d34b8b907f688a0986c7e0",
            "9092d763bbb14939bea4b6d0233cf318",
            "2ea86b314e4f414bbf54766a6a7c963c",
            "310b36d008124804ae02f2f61e96a506",
            "724f552c31ab4ac49f1e13510fc44e00",
            "b4e00348fd5f478caa8b5083820f161c",
            "45bfb6708ace4a93b03275a7f2b2ee30",
            "de7d061b9a644671b3d15e806f5d9e76",
            "8175d47802a749e3afafe005e20cdbfd",
            "b565a60093ab4d9287e0468039c2d99b",
            "b1295cad58fd4b658cbfc6c43cf75c5e",
            "c434cefb4fd4486db6a820e8cb6d1d83",
            "48f9bfe01c704b16a28d235ce763d09a",
            "578c34dc1e204e3eb3931148731b034b",
            "fb6fbfefad9b494f89f4f3a31ef6dfd7",
            "c6eda4257a2048388163d411346278b2",
            "aaa99619591c47b29e84dbef7e04dd18",
            "f0d1a4af1d394f079db217f10b039e84",
            "1eedcd0921664e5b996cda976775c6f1",
            "51eda41c03d64b9c991005635ff5915f",
            "9cd6e50bf6324ee9bf8f4dfa170e33c6"
          ]
        },
        "id": "_aB27PkNQNqG",
        "outputId": "41767b27-d976-4e1d-b579-dfd744136ee8"
      },
      "execution_count": null,
      "outputs": [
        {
          "output_type": "display_data",
          "data": {
            "text/plain": [
              "Text(value='', description='Número de identidad:', style=DescriptionStyle(description_width='initial'))"
            ],
            "application/vnd.jupyter.widget-view+json": {
              "version_major": 2,
              "version_minor": 0,
              "model_id": "3fbdbf0c2e294d62af6fc18028d51c61"
            }
          },
          "metadata": {}
        },
        {
          "output_type": "display_data",
          "data": {
            "text/plain": [
              "Text(value='', description='Nombres:', style=DescriptionStyle(description_width='initial'))"
            ],
            "application/vnd.jupyter.widget-view+json": {
              "version_major": 2,
              "version_minor": 0,
              "model_id": "4b67a0e141d84da8abf029652189daf0"
            }
          },
          "metadata": {}
        },
        {
          "output_type": "display_data",
          "data": {
            "text/plain": [
              "Text(value='', description='Apellidos:', style=DescriptionStyle(description_width='initial'))"
            ],
            "application/vnd.jupyter.widget-view+json": {
              "version_major": 2,
              "version_minor": 0,
              "model_id": "b7320f2bd27a4e1888993931a5a08f0e"
            }
          },
          "metadata": {}
        },
        {
          "output_type": "display_data",
          "data": {
            "text/plain": [
              "Text(value='', description='Dirección:', style=DescriptionStyle(description_width='initial'))"
            ],
            "application/vnd.jupyter.widget-view+json": {
              "version_major": 2,
              "version_minor": 0,
              "model_id": "7ac65e68e666443d88a9417d8c70d852"
            }
          },
          "metadata": {}
        },
        {
          "output_type": "display_data",
          "data": {
            "text/plain": [
              "Text(value='', description='Teléfono:', style=DescriptionStyle(description_width='initial'))"
            ],
            "application/vnd.jupyter.widget-view+json": {
              "version_major": 2,
              "version_minor": 0,
              "model_id": "b07b49f41ee44e4dab32f7654e3e995b"
            }
          },
          "metadata": {}
        },
        {
          "output_type": "display_data",
          "data": {
            "text/plain": [
              "Text(value='', description='Edad:', style=DescriptionStyle(description_width='initial'))"
            ],
            "application/vnd.jupyter.widget-view+json": {
              "version_major": 2,
              "version_minor": 0,
              "model_id": "2b3ab5f2f14a48c0916893dac4fefbad"
            }
          },
          "metadata": {}
        },
        {
          "output_type": "stream",
          "name": "stdout",
          "text": [
            "Seleccione su estado civil:\n"
          ]
        },
        {
          "output_type": "display_data",
          "data": {
            "text/plain": [
              "Dropdown(options=('Soltero', 'Casado', 'Viudo'), value='Soltero')"
            ],
            "application/vnd.jupyter.widget-view+json": {
              "version_major": 2,
              "version_minor": 0,
              "model_id": "0180c58f00d34b8b907f688a0986c7e0"
            }
          },
          "metadata": {}
        },
        {
          "output_type": "display_data",
          "data": {
            "text/plain": [
              "Text(value='', description='Número de hijos:', style=DescriptionStyle(description_width='initial'))"
            ],
            "application/vnd.jupyter.widget-view+json": {
              "version_major": 2,
              "version_minor": 0,
              "model_id": "310b36d008124804ae02f2f61e96a506"
            }
          },
          "metadata": {}
        },
        {
          "output_type": "display_data",
          "data": {
            "text/plain": [
              "Text(value='', description='Estatura:', style=DescriptionStyle(description_width='initial'))"
            ],
            "application/vnd.jupyter.widget-view+json": {
              "version_major": 2,
              "version_minor": 0,
              "model_id": "45bfb6708ace4a93b03275a7f2b2ee30"
            }
          },
          "metadata": {}
        },
        {
          "output_type": "display_data",
          "data": {
            "text/plain": [
              "Text(value='', description='Fecha de contratación:', style=DescriptionStyle(description_width='initial'))"
            ],
            "application/vnd.jupyter.widget-view+json": {
              "version_major": 2,
              "version_minor": 0,
              "model_id": "b565a60093ab4d9287e0468039c2d99b"
            }
          },
          "metadata": {}
        },
        {
          "output_type": "display_data",
          "data": {
            "text/plain": [
              "Text(value='', description='Sueldo básico:', style=DescriptionStyle(description_width='initial'))"
            ],
            "application/vnd.jupyter.widget-view+json": {
              "version_major": 2,
              "version_minor": 0,
              "model_id": "48f9bfe01c704b16a28d235ce763d09a"
            }
          },
          "metadata": {}
        },
        {
          "output_type": "display_data",
          "data": {
            "text/plain": [
              "Text(value='', description='Días laborados:', style=DescriptionStyle(description_width='initial'))"
            ],
            "application/vnd.jupyter.widget-view+json": {
              "version_major": 2,
              "version_minor": 0,
              "model_id": "c6eda4257a2048388163d411346278b2"
            }
          },
          "metadata": {}
        },
        {
          "output_type": "display_data",
          "data": {
            "text/plain": [
              "Button(description='Imprimir datos', style=ButtonStyle())"
            ],
            "application/vnd.jupyter.widget-view+json": {
              "version_major": 2,
              "version_minor": 0,
              "model_id": "1eedcd0921664e5b996cda976775c6f1"
            }
          },
          "metadata": {}
        }
      ]
    },
    {
      "cell_type": "code",
      "source": [
        "NumeroIdentificación = input(\"Ingrese un número de identidad \")\n",
        "Nombres = input(\"Ingrese su/s nombre/s \")\n",
        "Apellidos = input(\"Ingrese su/s apellido/s \")\n",
        "Direccion = input(\"Ingrese su dirección \")\n",
        "Telefono = input(\"Ingrese un número de teléfono \")\n",
        "Edad = int(input(\"Digite su edad en años \"))\n",
        "EstadoCivil = input(\"Cuál es su estaddo civil? \")\n",
        "NumeroHijos = input(\"Cuántos hijos tiene? \")\n",
        "Estatura = input(\"Digite su estatura en centimetros separada por . \")\n",
        "FechaContratacion = input(\"Cuál es la fecha de contratación? \")\n",
        "SueldoBasico = input(\"Cuál es su sueldo básico? \")\n",
        "DiasLaborados = input(\"Días efectivos laborados? \")\n",
        "print(\"------------------------------------------------------------\")\n",
        "print(\"Estimado \"+str(Nombres)+\" \"+str(Apellidos)+\" sus datos son los siguientes:\\n\"+\n",
        "      \"Número de identificación: \"+str(NumeroIdentificación)+\"\\n\"+\n",
        "      \"Dirección: \"+str(Direccion)+\"\\n\"+\n",
        "      \"Teléfono: \"+str(Telefono)+\"\\n\"+\n",
        "      \"Edad: \"+str(Edad)+\"\\n\"+\n",
        "      \"Estado civil: \"+str(EstadoCivil)+\"\\n\"+\n",
        "      \"Número de hijos: \"+str(NumeroHijos)+\"\\n\"+\n",
        "      \"Estatura: \"+str(Estatura)+\" cm\"+\"\\n\"+\n",
        "      \"Fecha de contratación: \"+str(FechaContratacion)+\"\\n\"+\n",
        "      \"Sueldo básico: \"+str(SueldoBasico)+\"\\n\"+\n",
        "      \"Días Laborados: \"+str(DiasLaborados))\n",
        "\n",
        "\n",
        "#Taller 2\n",
        "\n",
        "if Edad > 55:\n",
        "  Bono = SueldoBasico * 0.05\n",
        "  print(\"Como tiene más de 55 años, usted tiene derecho a un bono de previsión del 5% de su sueldo básico, que es de: \"+str(Bono))\n",
        "else:\n",
        "  print(\"No tiene derecho a un bono de previsión.\")\n",
        "\n",
        "#....................................\n",
        "\n",
        "if EstadoCivil.lower() == \"casado\" and int(NumeroHijos) > 0:\n",
        "    print(\"el empleado tiene derecho al paseo de diciembre.\")\n",
        "else:\n",
        "    print(\"el empleado no tiene derecho al paseo de diciembre.\")\n",
        "\n",
        "#....................................\n",
        "\n",
        "comision = 0.0\n",
        "\n",
        "if int(SueldoBasico) >= 1000000 and int(SueldoBasico) <= 1500000:\n",
        "    comision = float(SueldoBasico) * 0.02\n",
        "elif int(SueldoBasico) > 1500000 and int(SueldoBasico) <= 2000000:\n",
        "    comision = float(SueldoBasico) * 0.05\n",
        "    \n",
        "\n",
        "if comision > 0:\n",
        "    print(\"Felicidades, tiene derecho a una comisión de:\", comision)\n",
        "else:\n",
        "    print(\"No tiene derecho a comisión\")\n",
        "\n",
        "#......................................\n",
        "if int(DiasLaborados) > 20 and int(SueldoBasico) < 1000000:\n",
        "    print(\"¡Felicidades! Usted tiene derecho a un bono de alimentación.\")\n",
        "else:\n",
        "    print(\"Lo sentimos, usted no tiene derecho a un bono de alimentación.\")"
      ],
      "metadata": {
        "colab": {
          "base_uri": "https://localhost:8080/"
        },
        "id": "XJsWQ-EDL_Zj",
        "outputId": "67ab06ac-fdcf-44b7-c223-89b96d43545b"
      },
      "execution_count": null,
      "outputs": [
        {
          "output_type": "stream",
          "name": "stdout",
          "text": [
            "Ingrese un número de identidad 555\n",
            "Ingrese su/s nombre/s 444\n",
            "Ingrese su/s apellido/s 555\n",
            "Ingrese su dirección 5555\n",
            "Ingrese un número de teléfono 5555\n",
            "Digite su edad en años 30\n",
            "Cuál es su estaddo civil? soltero\n",
            "Cuántos hijos tiene? 2\n",
            "Digite su estatura en centimetros separada por . 1.77\n",
            "Cuál es la fecha de contratación? 02/08/2020\n",
            "Cuál es su sueldo básico? 2000000\n",
            "Días efectivos laborados? 30\n",
            "------------------------------------------------------------\n",
            "Estimado 444 555 sus datos son los siguientes:\n",
            "Número de identificación: 555\n",
            "Dirección: 5555\n",
            "Teléfono: 5555\n",
            "Edad: 30\n",
            "Estado civil: soltero\n",
            "Número de hijos: 2\n",
            "Estatura: 1.77 cm\n",
            "Fecha de contratación: 02/08/2020\n",
            "Sueldo básico: 2000000\n",
            "Días Laborados: 30\n",
            "No tiene derecho a un bono de previsión.\n",
            "el empleado no tiene derecho al paseo de diciembre.\n",
            "Felicidades, tiene derecho a una comisión de: 100000.0\n",
            "Lo sentimos, usted no tiene derecho a un bono de alimentación.\n"
          ]
        }
      ]
    },
    {
      "cell_type": "markdown",
      "source": [
        "##Clase 2 fecha 15/03/2023"
      ],
      "metadata": {
        "id": "YiUiDsZb0pDb"
      }
    },
    {
      "cell_type": "code",
      "source": [
        "num1=8\n",
        "num2=3\n",
        "resultado= num1+num2\n",
        "print(resultado)"
      ],
      "metadata": {
        "colab": {
          "base_uri": "https://localhost:8080/"
        },
        "id": "3w7dc9Si0wl8",
        "outputId": "5ccb5cc9-c31e-43ff-f4cc-92a4e42a7db8"
      },
      "execution_count": null,
      "outputs": [
        {
          "output_type": "stream",
          "name": "stdout",
          "text": [
            "11\n"
          ]
        }
      ]
    },
    {
      "cell_type": "code",
      "source": [
        "#Default input siempre captura datos de tipo texto\n",
        "num1= input(\"digite el número 1: \")\n",
        "num2= input(\"digite el número 1: \")\n",
        "resultado = num1+num2\n",
        "print(resultado)"
      ],
      "metadata": {
        "colab": {
          "base_uri": "https://localhost:8080/"
        },
        "id": "gxNykLiG1KVi",
        "outputId": "62bb64b3-070a-4a23-fe9e-706dae5a395b"
      },
      "execution_count": null,
      "outputs": [
        {
          "output_type": "stream",
          "name": "stdout",
          "text": [
            "digite el número 1: 8\n",
            "digite el número 1: 3\n",
            "83\n"
          ]
        }
      ]
    },
    {
      "cell_type": "code",
      "source": [
        "#para corregirlo usamos int que suma entero en caso de que los numeros que vayamos a sumar sean\n",
        "#decimales usamos float\n",
        "num1= int(input(\"digite el número 1: \"))\n",
        "num2= float(input(\"digite el número 1: \"))\n",
        "resultado = num1+num2\n",
        "print(resultado)"
      ],
      "metadata": {
        "colab": {
          "base_uri": "https://localhost:8080/"
        },
        "id": "2PwDWbrw1zUb",
        "outputId": "bf06429a-a67f-4a09-b182-de9c4b070eb2"
      },
      "execution_count": null,
      "outputs": [
        {
          "output_type": "stream",
          "name": "stdout",
          "text": [
            "digite el número 1: 8\n",
            "digite el número 1: 2.9\n",
            "10.9\n"
          ]
        }
      ]
    },
    {
      "cell_type": "code",
      "source": [
        "#usando format cada corchete se le asigna una variable en el orden en qe se pongan dentro del format\n",
        "#format se puede usar como \"format\" y como f\n",
        "\n",
        "num1= int(input(\"digite el número 1: \"))\n",
        "num2= float(input(\"digite el número 1: \"))\n",
        "suma = num1+num2\n",
        "resta = num1-num2\n",
        "division = num1/num2\n",
        "multiplicacion = num1*num2\n",
        "print(\"el resultado de la suma de {} y {} es = {}\".format(num1,num2,suma))\n",
        "print(\"el resultado de la resta de {} y {} es = {}\".format(num1,num2,resta))\n",
        "print(f\"el resultado de la division de {num1} y {num2} es = {division}\")\n",
        "print(f\"el resultado de la multiplicacion de {num1} y {num2} es = {multiplicacion}\")"
      ],
      "metadata": {
        "colab": {
          "base_uri": "https://localhost:8080/"
        },
        "id": "GHP_9lvM4XGq",
        "outputId": "546e4cd0-0a41-4ad0-8a0a-997166bd0075"
      },
      "execution_count": null,
      "outputs": [
        {
          "output_type": "stream",
          "name": "stdout",
          "text": [
            "digite el número 1: 20\n",
            "digite el número 1: 20\n",
            "el resultado de la suma de 20 y 20.0 es = 40.0\n",
            "el resultado de la resta de 20 y 20.0 es = 0.0\n",
            "el resultado de la division de 20 y 20.0 es = 1.0\n",
            "el resultado de la multiplicacion de 20 y 20.0 es = 400.0\n"
          ]
        }
      ]
    },
    {
      "cell_type": "code",
      "source": [
        "venta = float(input(\"¿Cuánto fue el total de la compra?: $\"))\n",
        "\n",
        "iva = venta * 0.19\n",
        "total = venta + iva\n",
        "\n",
        "print(\"El IVA es = ${:,.0f} y el total a pagar es= ${:,.0f}\".format(iva, total))"
      ],
      "metadata": {
        "colab": {
          "base_uri": "https://localhost:8080/"
        },
        "id": "vBtckr1zwazE",
        "outputId": "656542a9-52fa-4778-ab94-839f4107614a"
      },
      "execution_count": null,
      "outputs": [
        {
          "output_type": "stream",
          "name": "stdout",
          "text": [
            "¿Cuánto fue el total de la compra?: $100\n",
            "El IVA es = $19 y el total a pagar es= $119\n"
          ]
        }
      ]
    },
    {
      "cell_type": "markdown",
      "source": [
        "Diseña un programa en PYTHON para cada uno de los problemas\n",
        "que se te plantean.\n",
        "1. Un vendedor recibe un sueldo base más un 10% extra por\n",
        "comisión de sus ventas, el vendedor desea saber cuánto\n",
        "dinero obtendrá por concepto de comisiones por las tres\n",
        "ventas que realiza en el mes y el total que recibirá en\n",
        "el mes tomando en cuenta su sueldo base y comisiones.\n",
        "2. Una tienda ofrece un descuento del 15% sobre el total\n",
        "de la compra y un cliente desea saber cuánto deberá\n",
        "pagar finalmente por su compra.\n",
        "3. Un alumno desea saber cuál será su calificación final en\n",
        "la materia de Algoritmos. Dicha calificación se compone\n",
        "de tres exámenes parciales.\n",
        "4. Un maestro desea saber qué porcentaje de hombres y que\n",
        "porcentaje de mujeres hay en un grupo de estudiantes."
      ],
      "metadata": {
        "id": "ZQrTA8aXwp7V"
      }
    },
    {
      "cell_type": "code",
      "source": [
        "#Ejercicio 1\n",
        "\n",
        "Sueldo_Base = float(input(\"Ingrese el sueldo base del vendedor: \"))\n",
        "Num_Ventas = int(input(\"Ingrese el número de ventas realizadas por el vendedor en el mes: \"))\n",
        "\n",
        "Comision_Total = 0\n",
        "\n",
        "for i in range(Num_Ventas):\n",
        "    Venta = float(input(f\"Ingrese el monto de la venta {i+1}: \"))\n",
        "    Comision = Venta * 0.1\n",
        "    Comision_Total += Comision\n",
        "\n",
        "Total = Sueldo_Base + Comision_Total\n",
        "\n",
        "print(f\"El total de comisiones recibidas por las {Num_Ventas} ventas es: ${Comision_Total:.2f}\")\n",
        "print(f\"El sueldo total a recibir por el vendedor en el mes es: ${Total:.2f}\")"
      ],
      "metadata": {
        "colab": {
          "base_uri": "https://localhost:8080/"
        },
        "id": "DCKi6fkNwrqE",
        "outputId": "b7ccba51-129c-4602-8202-c8abe759f8d4"
      },
      "execution_count": null,
      "outputs": [
        {
          "output_type": "stream",
          "name": "stdout",
          "text": [
            "Ingrese el sueldo base del vendedor: 1000000\n",
            "Ingrese el número de ventas realizadas por el vendedor en el mes: 3\n",
            "Ingrese el monto de la venta 1: 1000\n",
            "Ingrese el monto de la venta 2: 2000\n",
            "Ingrese el monto de la venta 3: 3000\n",
            "El total de comisiones recibidas por las 3 ventas es: $600.00\n",
            "El sueldo total a recibir por el vendedor en el mes es: $1000600.00\n"
          ]
        }
      ]
    },
    {
      "cell_type": "code",
      "source": [
        "#Ejercicio 2\n",
        "\n",
        "Precio_Total = float(input(\"Ingrese el precio total de la compra: \"))\n",
        "Descuento = Precio_Total * 0.15\n",
        "Precio_Final = Precio_Total - Descuento\n",
        "print(f\"El descuento aplicado es de: ${Descuento:.2f}\")\n",
        "print(f\"El precio total de la compra con descuento del 15% es: ${Precio_Final:.2f}\")"
      ],
      "metadata": {
        "colab": {
          "base_uri": "https://localhost:8080/"
        },
        "id": "TbQayXLv0E3a",
        "outputId": "aa109be0-837a-4f69-f2a8-cdd8dbd6d18e"
      },
      "execution_count": null,
      "outputs": [
        {
          "output_type": "stream",
          "name": "stdout",
          "text": [
            "Ingrese el precio total de la compra: 1000\n",
            "El descuento aplicado es de: $150.00\n",
            "El precio total de la compra con descuento del 15% es: $850.00\n"
          ]
        }
      ]
    },
    {
      "cell_type": "code",
      "source": [
        "#Ejercicio 3\n",
        "\n",
        "#Se pide la cantidad de parciales realizados\n",
        "Cantidad_Parciales = int(input(\"Ingrese la cantidad de exámenes parciales: \"))\n",
        "\n",
        "Suma_Notas = 0\n",
        "\n",
        "#Ingresar la cantidad de notas y se suman\n",
        "for i in range(Cantidad_Parciales):\n",
        "    Nota = float(input(f\"Ingrese la nota del parcial {i+1}: \"))\n",
        "    Suma_Notas += Nota\n",
        "\n",
        "#Calcular la calificación\n",
        "Promedio = Suma_Notas / Cantidad_Parciales\n",
        "print(f\"La calificación final en la materia de Algoritmos es: {Promedio:.2f}\")"
      ],
      "metadata": {
        "colab": {
          "base_uri": "https://localhost:8080/"
        },
        "id": "IINrGG8_1n5K",
        "outputId": "08c46c6d-509c-403b-ab03-0b46a105312d"
      },
      "execution_count": null,
      "outputs": [
        {
          "output_type": "stream",
          "name": "stdout",
          "text": [
            "Ingrese la cantidad de exámenes parciales: 3\n",
            "Ingrese la nota del parcial 1: 3.0\n",
            "Ingrese la nota del parcial 2: 2.5\n",
            "Ingrese la nota del parcial 3: 5.0\n",
            "La calificación final en la materia de Algoritmos es: 3.50\n"
          ]
        }
      ]
    },
    {
      "cell_type": "code",
      "source": [
        "#Ejercicio 4\n",
        "\n",
        "Num_Hombres = int(input(\"Ingrese la cantidad de hombres en el grupo: \"))\n",
        "Num_Mujeres = int(input(\"Ingrese la cantidad de mujeres en el grupo: \"))\n",
        "\n",
        "Total_Estudiantes = Num_Hombres + Num_Mujeres\n",
        "Porcentaje_Hombres = (Num_Hombres / Total_Estudiantes) * 100\n",
        "Porcentaje_Mujeres = (Num_Mujeres / Total_Estudiantes) * 100\n",
        "\n",
        "print(\"El porcentaje de hombres en el grupo es:\", Porcentaje_Hombres, \"%\")\n",
        "print(\"El porcentaje de mujeres en el grupo es:\", Porcentaje_Mujeres, \"%\")"
      ],
      "metadata": {
        "colab": {
          "base_uri": "https://localhost:8080/"
        },
        "id": "AmGFB95z211L",
        "outputId": "7f99c799-143e-41b5-d5e9-a13dc83f0155"
      },
      "execution_count": null,
      "outputs": [
        {
          "output_type": "stream",
          "name": "stdout",
          "text": [
            "Ingrese la cantidad de hombres en el grupo: 50\n",
            "Ingrese la cantidad de mujeres en el grupo: 50\n",
            "El porcentaje de hombres en el grupo es: 50.0 %\n",
            "El porcentaje de mujeres en el grupo es: 50.0 %\n"
          ]
        }
      ]
    },
    {
      "cell_type": "markdown",
      "source": [
        "###Clase 16/03/2023\n",
        "###Sentencias condicionales"
      ],
      "metadata": {
        "id": "RNQ728cH5msS"
      }
    },
    {
      "cell_type": "code",
      "source": [
        "num1 = 5\n",
        "num2 = 9\n",
        "\n",
        "if num1==num2:\n",
        "  print(\"los números son iguales\")\n",
        "else:\n",
        "  print(\"los números no son iguales\")"
      ],
      "metadata": {
        "colab": {
          "base_uri": "https://localhost:8080/"
        },
        "id": "L8zMDEPO5u9h",
        "outputId": "c4b0ed4e-c37e-4fa9-deb8-74175286c27c"
      },
      "execution_count": null,
      "outputs": [
        {
          "output_type": "stream",
          "name": "stdout",
          "text": [
            "los números no son iguales\n"
          ]
        }
      ]
    },
    {
      "cell_type": "markdown",
      "source": [
        "Operadores relacionales"
      ],
      "metadata": {
        "id": "c8tq8i_M71qq"
      }
    },
    {
      "cell_type": "code",
      "source": [
        "for w in (1,2,3,4):\n",
        "  print(w)"
      ],
      "metadata": {
        "id": "4vqrblwt74Yp",
        "colab": {
          "base_uri": "https://localhost:8080/"
        },
        "outputId": "6dc4b2e8-78f7-481b-c29b-87910c27bdef"
      },
      "execution_count": null,
      "outputs": [
        {
          "output_type": "stream",
          "name": "stdout",
          "text": [
            "1\n",
            "2\n",
            "3\n",
            "4\n"
          ]
        }
      ]
    },
    {
      "cell_type": "code",
      "source": [
        "num = int(input(\"Digite el número de la tabla de multiplicar: \"))\n",
        "\n",
        "for i in range(11):\n",
        "  print(num, \" x \", i, \" = \", i * num)"
      ],
      "metadata": {
        "colab": {
          "base_uri": "https://localhost:8080/"
        },
        "id": "otGyqBJpiFIi",
        "outputId": "49dba9bf-3bab-4c33-f411-82ff33fca308"
      },
      "execution_count": 2,
      "outputs": [
        {
          "output_type": "stream",
          "name": "stdout",
          "text": [
            "Digite el número de la tabla de multiplicar: 8\n",
            "8  x  0  =  0\n",
            "8  x  1  =  8\n",
            "8  x  2  =  16\n",
            "8  x  3  =  24\n",
            "8  x  4  =  32\n",
            "8  x  5  =  40\n",
            "8  x  6  =  48\n",
            "8  x  7  =  56\n",
            "8  x  8  =  64\n",
            "8  x  9  =  72\n",
            "8  x  10  =  80\n"
          ]
        }
      ]
    },
    {
      "cell_type": "markdown",
      "source": [
        "Taller\n"
      ],
      "metadata": {
        "id": "CNgdyXX5izZi"
      }
    },
    {
      "cell_type": "code",
      "source": [
        "while True:\n",
        "    # Pedir al usuario que ingrese el sueldo\n",
        "    sueldo = float(input(\"Ingrese el sueldo del trabajador: \"))\n",
        "\n",
        "    # Verificar si el sueldo es mayor a 655000\n",
        "    if sueldo > 655000:\n",
        "        bonificacion = 0\n",
        "    else:\n",
        "        # Calcular la bonificación del 4%\n",
        "        bonificacion = sueldo * 0.04\n",
        "\n",
        "    # Calcular el total del sueldo con bonificación\n",
        "    total_sueldo = sueldo + bonificacion\n",
        "\n",
        "    # Mostrar el resultado al usuario\n",
        "    print(\"El total del sueldo con bonificación es:\", total_sueldo)\n",
        "\n",
        "    # Preguntar al usuario si desea ejecutar de nuevo el programa\n",
        "    respuesta = input(\"¿Desea ejecutar de nuevo el programa? (s/n): \")\n",
        "    if respuesta != \"s\":\n",
        "        break"
      ],
      "metadata": {
        "colab": {
          "base_uri": "https://localhost:8080/"
        },
        "id": "srXB-yDui0yh",
        "outputId": "75436546-260c-432b-c3d8-aff751515b9e"
      },
      "execution_count": 3,
      "outputs": [
        {
          "name": "stdout",
          "output_type": "stream",
          "text": [
            "Ingrese el sueldo del trabajador: 2500000\n",
            "El total del sueldo con bonificación es: 2500000.0\n",
            "¿Desea ejecutar de nuevo el programa? (s/n): s\n",
            "Ingrese el sueldo del trabajador: 10\n",
            "El total del sueldo con bonificación es: 10.4\n",
            "¿Desea ejecutar de nuevo el programa? (s/n): n\n"
          ]
        }
      ]
    },
    {
      "cell_type": "code",
      "source": [
        "# Inicializar la variable para el promedio general\n",
        "promedio_general = 0\n",
        "num_alumnos = 0\n",
        "\n",
        "# Ciclo while para continuar capturando calificaciones hasta que el usuario lo decida\n",
        "continuar = \"si\"\n",
        "while continuar.lower() in [\"si\", \"s\", \"yes\", \"y\"]:\n",
        "    # Inicializar la variable para el promedio del alumno actual\n",
        "    promedio_alumno = 0\n",
        "    \n",
        "    # Capturar las calificaciones de los 5 parciales del alumno\n",
        "    for i in range(5):\n",
        "        calificacion = float(input(\"Ingresa la calificación del parcial {}: \".format(i+1)))\n",
        "        promedio_alumno += calificacion\n",
        "    \n",
        "    # Calcular el promedio del alumno y desplegarlo\n",
        "    promedio_alumno /= 5\n",
        "    print(\"El promedio del alumno es:\", promedio_alumno)\n",
        "    \n",
        "    # Actualizar el promedio general y el número de alumnos capturados\n",
        "    promedio_general = (promedio_general * num_alumnos + promedio_alumno) / (num_alumnos + 1)\n",
        "    num_alumnos += 1\n",
        "    \n",
        "    # Preguntar si se quiere continuar capturando calificaciones\n",
        "    continuar = input(\"¿Quieres capturar las calificaciones de otro alumno? (si/no): \")\n",
        "\n",
        "# Desplegar el promedio general\n",
        "print(\"El promedio general de todos los alumnos calificados es:\", promedio_general)\n"
      ],
      "metadata": {
        "colab": {
          "base_uri": "https://localhost:8080/"
        },
        "id": "mjVSVWbBjawq",
        "outputId": "05606a33-f32f-45aa-dad2-e6e7133571dc"
      },
      "execution_count": 5,
      "outputs": [
        {
          "output_type": "stream",
          "name": "stdout",
          "text": [
            "Ingresa la calificación del parcial 1: 5\n",
            "Ingresa la calificación del parcial 2: 5\n",
            "Ingresa la calificación del parcial 3: 5\n",
            "Ingresa la calificación del parcial 4: 2\n",
            "Ingresa la calificación del parcial 5: 2\n",
            "El promedio del alumno es: 3.8\n",
            "¿Quieres capturar las calificaciones de otro alumno? (si/no): s\n",
            "Ingresa la calificación del parcial 1: 5\n",
            "Ingresa la calificación del parcial 2: 5\n",
            "Ingresa la calificación del parcial 3: 3\n",
            "Ingresa la calificación del parcial 4: 3\n",
            "Ingresa la calificación del parcial 5: 3\n",
            "El promedio del alumno es: 3.8\n",
            "¿Quieres capturar las calificaciones de otro alumno? (si/no): y\n",
            "Ingresa la calificación del parcial 1: 6\n",
            "Ingresa la calificación del parcial 2: 5\n",
            "Ingresa la calificación del parcial 3: 0\n",
            "Ingresa la calificación del parcial 4: 3\n",
            "Ingresa la calificación del parcial 5: 3\n",
            "El promedio del alumno es: 3.4\n",
            "¿Quieres capturar las calificaciones de otro alumno? (si/no): si\n",
            "Ingresa la calificación del parcial 1: 5\n",
            "Ingresa la calificación del parcial 2: 2\n",
            "Ingresa la calificación del parcial 3: 3\n",
            "Ingresa la calificación del parcial 4: 5\n",
            "Ingresa la calificación del parcial 5: 4\n",
            "El promedio del alumno es: 3.8\n",
            "¿Quieres capturar las calificaciones de otro alumno? (si/no): no\n",
            "El promedio general de todos los alumnos capturados es: 3.7\n"
          ]
        }
      ]
    },
    {
      "cell_type": "code",
      "source": [
        "# Iniciar una variable contador en cero\n",
        "contador = 0\n",
        "\n",
        "# Iterar sobre todos los números del 0 al 100, incrementando de 2 en 2\n",
        "for num in range(0, 101, 2):\n",
        "    # Incrementar el contador en 1 por cada número par encontrado\n",
        "    contador += 1\n",
        "\n",
        "# Desplegar el total de números pares encontrados\n",
        "print(\"El número total de números pares entre 0 y 100 es:\", contador)"
      ],
      "metadata": {
        "colab": {
          "base_uri": "https://localhost:8080/"
        },
        "id": "Ti_ksMLAkcnY",
        "outputId": "86d219e1-d919-4fcc-9b72-d7ada2af9f93"
      },
      "execution_count": 6,
      "outputs": [
        {
          "output_type": "stream",
          "name": "stdout",
          "text": [
            "El número total de números pares entre 0 y 100 es: 51\n"
          ]
        }
      ]
    },
    {
      "cell_type": "code",
      "source": [
        "# Pedir al usuario que ingrese su edad\n",
        "edad = int(input(\"Ingrese su edad: \"))\n",
        "\n",
        "# ejecuta el for desde 1 hasta la edad del usuario, utilizando un ciclo for\n",
        "for i in range(1, edad+1):\n",
        "    # Imprimir cada año que ha cumplido el usuario\n",
        "    print(\"Ha cumplido\", i, \"año(s)\")"
      ],
      "metadata": {
        "colab": {
          "base_uri": "https://localhost:8080/"
        },
        "id": "Q57Yzk0Dktew",
        "outputId": "d267a2ae-9af1-4590-c88d-5cbc12da1eb9"
      },
      "execution_count": 7,
      "outputs": [
        {
          "output_type": "stream",
          "name": "stdout",
          "text": [
            "Ingrese su edad: 28\n",
            "Ha cumplido 1 año(s)\n",
            "Ha cumplido 2 año(s)\n",
            "Ha cumplido 3 año(s)\n",
            "Ha cumplido 4 año(s)\n",
            "Ha cumplido 5 año(s)\n",
            "Ha cumplido 6 año(s)\n",
            "Ha cumplido 7 año(s)\n",
            "Ha cumplido 8 año(s)\n",
            "Ha cumplido 9 año(s)\n",
            "Ha cumplido 10 año(s)\n",
            "Ha cumplido 11 año(s)\n",
            "Ha cumplido 12 año(s)\n",
            "Ha cumplido 13 año(s)\n",
            "Ha cumplido 14 año(s)\n",
            "Ha cumplido 15 año(s)\n",
            "Ha cumplido 16 año(s)\n",
            "Ha cumplido 17 año(s)\n",
            "Ha cumplido 18 año(s)\n",
            "Ha cumplido 19 año(s)\n",
            "Ha cumplido 20 año(s)\n",
            "Ha cumplido 21 año(s)\n",
            "Ha cumplido 22 año(s)\n",
            "Ha cumplido 23 año(s)\n",
            "Ha cumplido 24 año(s)\n",
            "Ha cumplido 25 año(s)\n",
            "Ha cumplido 26 año(s)\n",
            "Ha cumplido 27 año(s)\n",
            "Ha cumplido 28 año(s)\n"
          ]
        }
      ]
    }
  ]
}